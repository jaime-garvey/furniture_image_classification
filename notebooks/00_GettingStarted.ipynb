{
  "nbformat": 4,
  "nbformat_minor": 0,
  "metadata": {
    "colab": {
      "name": "00_GettingStarted.ipynb",
      "version": "0.3.2",
      "provenance": []
    },
    "kernelspec": {
      "name": "python3",
      "display_name": "Python 3"
    }
  },
  "cells": [
    {
      "cell_type": "markdown",
      "metadata": {
        "id": "1tqp31iS_r6k",
        "colab_type": "text"
      },
      "source": [
        "# 00. Getting Started"
      ]
    },
    {
      "cell_type": "markdown",
      "metadata": {
        "id": "bqdGipY9BgZx",
        "colab_type": "text"
      },
      "source": [
        "## Understanding the Problem\n",
        "\n",
        "**Background**:\n",
        "\n",
        "> Online retailers are constantly adding and discontinuing new projects. What if we can automatically assign (or reassign new) product labels? We will be using data from the [iMaterialist Kaggle Competition](https://www.kaggle.com/c/imaterialist-challenge-furniture-2018/overview) to assign product category labels to furniture and home goods.\n",
        "\n",
        "\n",
        "**Objective**: \n",
        "> To accurately assign category labels for furniture and home goods images\n",
        "\n",
        "\n",
        "**Evalutation**:\n",
        "> \"An algorithm to be evaluated will produce 1 label per image. If the predicted label is the same as the groundtruth label, then the error for that image is 0, otherwise it is 1. The final score is the error averaged across all images.\""
      ]
    },
    {
      "cell_type": "markdown",
      "metadata": {
        "id": "Cagu_8G7Bi2M",
        "colab_type": "text"
      },
      "source": [
        "## Key Files & Data\n",
        "\n",
        "**Key Files**:\n",
        "* ```train.json```: training data with image urls and labels\n",
        "\n",
        "* ```validation.json```: validation data with the same format as train.json\n",
        "\n",
        "* ```test.json```: images of which the participants need to generate predictions. Only image URLs are provided.\n",
        "\n",
        "* ```sample_submission_randomlabel.csv```: example submission file with random predictions to illustrate the submission file format\n",
        "\n",
        "\n",
        "\n",
        "**Training Data**:\n",
        "\n",
        "([From Kaggle Competion Page](https://www.kaggle.com/c/imaterialist-challenge-furniture-2018/data))\n",
        "The training dataset includes images from 128 furniture and home goods classes with one ground truth label for each image. It includes a total of 194,828 images for training and 6,400 images for validation and 12,800 images for testing. Train and validation sets have the same format as shown below:\n",
        "```\n",
        "{\n",
        "\n",
        "\"images\" : [image],\n",
        "\n",
        "\"annotations\" : [annotation],\n",
        "\n",
        "}\n",
        "\n",
        "image{\n",
        "\n",
        "\"image_id\" : int,\n",
        "\n",
        "\"url\": [string]\n",
        "\n",
        "}\n",
        "\n",
        "annotation{\n",
        "\n",
        "\"image_id\" : int,\n",
        "\n",
        "\"label_id\" : int\n",
        "\n",
        "}\n",
        "\n",
        "```\n",
        "*Note that for each image, we only provide URL instead of the image content. *\n"
      ]
    }
  ]
}