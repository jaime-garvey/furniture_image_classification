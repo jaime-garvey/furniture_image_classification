{
  "nbformat": 4,
  "nbformat_minor": 0,
  "metadata": {
    "colab": {
      "name": "01_DataPrep.ipynb",
      "version": "0.3.2",
      "provenance": []
    },
    "kernelspec": {
      "name": "python3",
      "display_name": "Python 3"
    }
  },
  "cells": [
    {
      "cell_type": "markdown",
      "metadata": {
        "id": "nJuqrBYpGHOm",
        "colab_type": "text"
      },
      "source": [
        "# 01. Data Prep"
      ]
    },
    {
      "cell_type": "code",
      "metadata": {
        "id": "5TJlBdmTF7OJ",
        "colab_type": "code",
        "colab": {}
      },
      "source": [
        "import pandas as pd\n",
        "import numpy as np\n",
        "from pandas.io.json import json_normalize\n",
        "\n",
        "pd.set_option('display.max_colwidth', -1)"
      ],
      "execution_count": 0,
      "outputs": []
    },
    {
      "cell_type": "code",
      "metadata": {
        "id": "qnAOfpw6nyey",
        "colab_type": "code",
        "outputId": "f4c785ad-c1c7-45f3-f972-bf0ec541a8f7",
        "colab": {
          "base_uri": "https://localhost:8080/",
          "height": 34
        }
      },
      "source": [
        "from google.colab import drive\n",
        "drive.mount('/content/drive')"
      ],
      "execution_count": 0,
      "outputs": [
        {
          "output_type": "stream",
          "text": [
            "Mounted at /content/drive\n"
          ],
          "name": "stdout"
        }
      ]
    },
    {
      "cell_type": "code",
      "metadata": {
        "id": "ftRlOrGw3keb",
        "colab_type": "code",
        "colab": {}
      },
      "source": [
        "data_path = \"drive/My Drive/Colab_Notebooks/computer_vision/iMaterialist_Challenge_Image_Classification/data/\""
      ],
      "execution_count": 0,
      "outputs": []
    },
    {
      "cell_type": "code",
      "metadata": {
        "id": "axQmeQRmthc3",
        "colab_type": "code",
        "colab": {}
      },
      "source": [
        "train_images = pd.read_json(\"drive/My Drive/Colab_Notebooks/computer_vision/iMaterialist_Challenge_Image_Classification/data/train.json\")"
      ],
      "execution_count": 0,
      "outputs": []
    },
    {
      "cell_type": "code",
      "metadata": {
        "id": "_YZn7WDaz2fz",
        "colab_type": "code",
        "colab": {}
      },
      "source": [
        "def read_data(path):\n",
        "  return pd.read_json(path)"
      ],
      "execution_count": 0,
      "outputs": []
    },
    {
      "cell_type": "code",
      "metadata": {
        "id": "2H_ZSzyMxtx1",
        "colab_type": "code",
        "colab": {}
      },
      "source": [
        "def json_to_tabular(data):\n",
        "  '''\n",
        "  Convert json columns to pandas dataframe\n",
        "  \n",
        "  Keyword Arguments:\n",
        "  ------------------\n",
        "  data - dataframe in json format\n",
        "  \n",
        "  Returns:\n",
        "  --------\n",
        "  a pandas dataframe\n",
        "  '''\n",
        "  \n",
        "  images_df = pd.DataFrame.from_dict(json_normalize(data['images']), orient='columns')\n",
        "  annotation_df = pd.DataFrame.from_dict(json_normalize(data['annotations']), orient='columns')\n",
        "  \n",
        "  combined_df = pd.merge(images_df, annotation_df, on='image_id')\n",
        "  \n",
        "  #take url out of list \n",
        "  combined_df['url'] = combined_df['url'].apply(lambda x: x[0])\n",
        "  \n",
        "  return combined_df"
      ],
      "execution_count": 0,
      "outputs": []
    },
    {
      "cell_type": "code",
      "metadata": {
        "id": "7U4XbLE7wRX_",
        "colab_type": "code",
        "colab": {}
      },
      "source": [
        "train_images_df = json_to_tabular(train_images)"
      ],
      "execution_count": 0,
      "outputs": []
    },
    {
      "cell_type": "code",
      "metadata": {
        "id": "OtOdUIJgzPLu",
        "colab_type": "code",
        "outputId": "6a8d08ce-ae4c-4a89-b339-c5b46c544751",
        "colab": {
          "base_uri": "https://localhost:8080/",
          "height": 212
        }
      },
      "source": [
        "train_images_df.head()"
      ],
      "execution_count": 0,
      "outputs": [
        {
          "output_type": "execute_result",
          "data": {
            "text/html": [
              "<div>\n",
              "<style scoped>\n",
              "    .dataframe tbody tr th:only-of-type {\n",
              "        vertical-align: middle;\n",
              "    }\n",
              "\n",
              "    .dataframe tbody tr th {\n",
              "        vertical-align: top;\n",
              "    }\n",
              "\n",
              "    .dataframe thead th {\n",
              "        text-align: right;\n",
              "    }\n",
              "</style>\n",
              "<table border=\"1\" class=\"dataframe\">\n",
              "  <thead>\n",
              "    <tr style=\"text-align: right;\">\n",
              "      <th></th>\n",
              "      <th>image_id</th>\n",
              "      <th>url</th>\n",
              "      <th>label_id</th>\n",
              "    </tr>\n",
              "  </thead>\n",
              "  <tbody>\n",
              "    <tr>\n",
              "      <th>0</th>\n",
              "      <td>1</td>\n",
              "      <td>https://img13.360buyimg.com/imgzone/jfs/t2857/351/510705008/279959/4e27dce0/57171f60N523c940e.jpg</td>\n",
              "      <td>5</td>\n",
              "    </tr>\n",
              "    <tr>\n",
              "      <th>1</th>\n",
              "      <td>2</td>\n",
              "      <td>http://www.tengdakeli.cn/350/timg01/uploaded/i1/12034027012625145/T1pFCtFbVcXXXXXXXX_%21%210-item_pic.jpg</td>\n",
              "      <td>5</td>\n",
              "    </tr>\n",
              "    <tr>\n",
              "      <th>2</th>\n",
              "      <td>3</td>\n",
              "      <td>https://img13.360buyimg.com/imgzone/jfs/t8899/250/980951973/79501/43f4f687/59b25f42N52ee2b0c.jpg</td>\n",
              "      <td>5</td>\n",
              "    </tr>\n",
              "    <tr>\n",
              "      <th>3</th>\n",
              "      <td>4</td>\n",
              "      <td>http://img4.tbcdn.cn/tfscom/i1/2855447419/TB2SJwwdxeK.eBjSZFlXXaywXXa_!!2855447419.jpg</td>\n",
              "      <td>5</td>\n",
              "    </tr>\n",
              "    <tr>\n",
              "      <th>4</th>\n",
              "      <td>5</td>\n",
              "      <td>http://a.vpimg4.com/upload/merchandise/287883/QQI-390870207-1.jpg</td>\n",
              "      <td>5</td>\n",
              "    </tr>\n",
              "  </tbody>\n",
              "</table>\n",
              "</div>"
            ],
            "text/plain": [
              "   image_id  ... label_id\n",
              "0  1         ...  5      \n",
              "1  2         ...  5      \n",
              "2  3         ...  5      \n",
              "3  4         ...  5      \n",
              "4  5         ...  5      \n",
              "\n",
              "[5 rows x 3 columns]"
            ]
          },
          "metadata": {
            "tags": []
          },
          "execution_count": 99
        }
      ]
    },
    {
      "cell_type": "code",
      "metadata": {
        "id": "tsTrPNZT1uh6",
        "colab_type": "code",
        "colab": {}
      },
      "source": [
        "# Pickle Dataframe\n",
        "pickle_path = data_path + '/train_images_df.pkl'\n",
        "pd.to_pickle(train_images_df, path=pickle_path)"
      ],
      "execution_count": 0,
      "outputs": []
    },
    {
      "cell_type": "code",
      "metadata": {
        "id": "ofR5wv1r3dxw",
        "colab_type": "code",
        "colab": {}
      },
      "source": [
        ""
      ],
      "execution_count": 0,
      "outputs": []
    }
  ]
}